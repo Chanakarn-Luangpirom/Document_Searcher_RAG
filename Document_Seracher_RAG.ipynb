{
 "cells": [
  {
   "cell_type": "markdown",
   "id": "31178c81-ae81-4200-af5b-f2c7b70b5c69",
   "metadata": {},
   "source": [
    "## Document Searcher Class\n",
    "## To do: Excel load multiple documents"
   ]
  },
  {
   "cell_type": "code",
   "execution_count": 63,
   "id": "f910bfc8-ecd0-4a11-93d8-46d3b1361b57",
   "metadata": {},
   "outputs": [],
   "source": [
    "from sklearn.feature_extraction.text import TfidfVectorizer\n",
    "import os\n",
    "import cohere\n",
    "import pandas as pd\n",
    "import numpy as np\n",
    "from sklearn.metrics.pairwise import cosine_similarity\n",
    "from langchain_community.embeddings import HuggingFaceEmbeddings\n",
    "import google.generativeai as genai\n",
    "COHERE_API_KEY  = os.environ['COHERE_API_KEY']\n",
    "GEMINI_API_KEY  = os.environ['GEMINI_API_KEY']\n",
    "cohere_key = COHERE_API_KEY\n",
    "co = cohere.Client(cohere_key)\n",
    "gt = pd.read_excel('data/ground_truth.xlsx')\n",
    "genai.configure(api_key=os.environ['GEMINI_API_KEY'])\n"
   ]
  },
  {
   "cell_type": "code",
   "execution_count": 64,
   "id": "310173f3-554a-4455-9466-1e2d95e7f445",
   "metadata": {},
   "outputs": [],
   "source": [
    "def letter_tokenizer(word,n = 3):\n",
    "    tokens = []\n",
    "    for i in range(len(word) - n + 1):\n",
    "        tokens.append(word[i:i+n])\n",
    "    return tokens\n",
    "\n",
    "def preprocess_text(text):\n",
    "    tokens = letter_tokenizer(text)\n",
    "    return ' '.join(tokens)\n",
    "\n",
    "\n",
    "def generate_prompt(q,retrieved_documents,group_key):\n",
    "    if retrieved_documents == None:\n",
    "        return \"Not confident enough to generate prompt\"\n",
    "    else:\n",
    "        context_string = \"\"\n",
    "        for section,context in retrieved_documents.items():\n",
    "            context_string += '-------' + group_key[section] + '-------'\n",
    "            context_string += ' '.join(context)\n",
    "            context_string += '\\n'\n",
    "    \n",
    "        prompt = \"\"\" \n",
    "    Based on the context below answer the given question. Given Question: {}\n",
    "    ----------------------------- Context -----------------------------\n",
    "    {}\n",
    "        \"\"\".format(q,context_string) \n",
    "    \n",
    "        return prompt\n",
    "\n",
    "def rerank_documents(q,context_group,frac = 0.7):\n",
    "    if context_group == None:\n",
    "        return None\n",
    "    reranked_context = {}\n",
    "    for group,context in context_group.items():\n",
    "        n = round(frac*len(context))\n",
    "        if n > 0:\n",
    "            res = co.rerank(query = q, documents = context, top_n = n , model = 'rerank-multilingual-v3.0')\n",
    "            reranked_list = []\n",
    "            for doc in res.results:\n",
    "              doc = context[doc.index]\n",
    "              reranked_list.append(doc)\n",
    "            reranked_context[group] = reranked_list\n",
    "        else:\n",
    "            reranked_context[group] = []\n",
    "    return reranked_context"
   ]
  },
  {
   "cell_type": "code",
   "execution_count": 204,
   "id": "0c421407-21d0-479f-a4a0-4153a8d48bd5",
   "metadata": {},
   "outputs": [],
   "source": [
    "class DocSearcher:\n",
    "    def __init__(self,docs,embedding_model):\n",
    "        # docs['context_embedding'] = docs['Question'].apply(lambda x: embedding_model.embed_query(x))\n",
    "        docs['Q_A'] = docs['Question'] + docs['Answer']\n",
    "        embeddings = genai.embed_content(model = 'models/text-embedding-004',content = docs['Q_A'].tolist())\n",
    "\n",
    "        docs['context_embedding'] = embeddings['embedding']\n",
    "\n",
    "\n",
    "\n",
    "        docs['Group_short'] = docs['Group_short'].astype(str)\n",
    "        group_key = docs[['Group_short','Group']].drop_duplicates()\n",
    "        group_key = dict(zip(group_key['Group_short'], group_key['Group']))\n",
    "        self.emb = embedding_model\n",
    "        self.docs = docs\n",
    "        self.group_key = group_key\n",
    "\n",
    "    def _get_context_from_scores(self,section_scores,num_section = 5,k = 15):\n",
    "        docs = self.docs\n",
    "        group_key = self.group_key\n",
    "        is_confident = True\n",
    "        for section,score in section_scores.items():\n",
    "            if score < 0:\n",
    "                section_scores[section] = 0\n",
    "        section_scores = sorted(section_scores.items(), key=lambda x: x[1],reverse = True)\n",
    "        total_scores = sum(value for key, value in section_scores[0:num_section])\n",
    "        if total_scores <= 0.25:\n",
    "            is_confident = False\n",
    "            context = None\n",
    "            return is_confident, context\n",
    "        else:\n",
    "            context = {}\n",
    "            for score in section_scores[0:num_section]:\n",
    "                section = score[0]\n",
    "                filtered_docs = docs[docs['Group_short']==section].reset_index(drop = True)\n",
    "                n_documents = round(k*score[1]/total_scores)\n",
    "                chosen_row = filtered_docs.iloc[0:n_documents]\n",
    "                context[section] = chosen_row['q_a'].tolist()\n",
    "            return is_confident,context     \n",
    "\n",
    "    def query_documents(self,q,k = 15,method = 'all',num_section = 3):\n",
    "        docs = self.docs\n",
    "        docs['q_a'] = '\\n Question: ' + docs['Question'] + '\\n Answer: ' + docs['Answer']\n",
    "        if method == 'all':\n",
    "            scores_tfidf = self.get_section_tfidf_scores(q)\n",
    "            scores_vector = self.get_section_vector_scores(q)\n",
    "            scores_combined = {section: (scores_tfidf[section] + scores_vector[section])/2 for section in scores_vector}\n",
    "            is_confident, context = self._get_context_from_scores(section_scores = scores_combined,num_section = num_section,k = k)\n",
    "            if is_confident == True:\n",
    "                return context\n",
    "            else:\n",
    "                return None\n",
    "\n",
    "        elif method == 'tfidf':\n",
    "            scores_tfidf = self.get_section_tfidf_scores(q)\n",
    "            is_confident, context = self._get_context_from_scores(section_scores = scores_tfidf,num_section = num_section,k = k)\n",
    "            if is_confident == True:\n",
    "                return context\n",
    "            else:\n",
    "                return None\n",
    "            \n",
    "        elif method == 'vector':\n",
    "            scores_vector = self.get_section_vector_scores(q)\n",
    "            is_confident, context = self._get_context_from_scores(section_scores = scores_vector,num_section = num_section,k = k)\n",
    "            if is_confident == True:\n",
    "                return context\n",
    "            else:\n",
    "                return None\n",
    "\n",
    "        elif method == 'fuzzy':\n",
    "            pass\n",
    "        else:\n",
    "            raise NameError(\"Please input the correct method\")\n",
    "\n",
    "    def query_documents_with_prompt(self,q,k = 15,method = 'all'):\n",
    "        context = self.query_documents(q,k,method)\n",
    "        if context != None: \n",
    "            group_key = self.group_key\n",
    "            context_string = \"\"\n",
    "            for section,doc in context.items():\n",
    "                context_string += '-------' + group_key[section] + '-------'\n",
    "                context_string += ' '.join(doc)\n",
    "                context_string += '\\n'\n",
    "            prompt = \"\"\"\n",
    "        Base the context below answer the given question. Given Question: {}\n",
    "        ------------------------- Context -----------------------------\n",
    "        {}\n",
    "            \"\"\".format(q,context_string)\n",
    "            return prompt\n",
    "        else:\n",
    "            return \"Not confident enough to generate prompt\"\n",
    "\n",
    "    # Whole document scores\n",
    "    def get_section_tfidf_scores(self,q):\n",
    "        docs = self.docs\n",
    "        docs_grouped = docs.groupby('Group_short')['Question'].apply(lambda x: ' '.join(x)).reset_index()\n",
    "        docs_grouped['docs'] = docs_grouped['Group_short']+' '+docs_grouped['Question']\n",
    "        docs_grouped['cleaned_document'] = docs_grouped['Question'].apply(preprocess_text)\n",
    "        tfidf_vectorizer = TfidfVectorizer()\n",
    "        tfidf_matrix = tfidf_vectorizer.fit_transform(docs_grouped['cleaned_document'])\n",
    "        cleaned_query = preprocess_text(q)\n",
    "        query_vector = tfidf_vectorizer.transform([cleaned_query])\n",
    "        similarities = cosine_similarity(query_vector, tfidf_matrix)\n",
    "        relevant_docs_indices = similarities.argsort()[0][::-1]\n",
    "        scores_tfidf = {}\n",
    "        for i, idx in enumerate(relevant_docs_indices):\n",
    "            scores_tfidf[docs_grouped.iloc[idx,:]['Group_short']] = similarities[0][idx]     \n",
    "        return scores_tfidf\n",
    "\n",
    "    def get_section_vector_scores(self,q):\n",
    "        emb = self.emb\n",
    "        docs = self.docs \n",
    "        # query_embedding = np.array(emb.embed_query(q)).reshape(1,-1)\n",
    "        query_embedding = np.array(genai.embed_content(model = 'models/text-embedding-004',content = q)['embedding']).reshape(1,-1)\n",
    "        context_embeddings = np.array(docs['context_embedding'].tolist())\n",
    "        scores_vector = cosine_similarity(context_embeddings, query_embedding).flatten()\n",
    "        docs['similarity_score_vector'] = scores_vector\n",
    "        docs = docs.sort_values(by = 'similarity_score_vector',ascending = False) \n",
    "        self.docs = docs\n",
    "        scores_vector = docs.groupby(['Group_short'])['similarity_score_vector'].mean().sort_values(ascending = False).to_dict()\n",
    "        return scores_vector"
   ]
  },
  {
   "cell_type": "code",
   "execution_count": 205,
   "id": "07212b85-767a-4be3-ac56-e12da9044d0d",
   "metadata": {},
   "outputs": [
    {
     "name": "stderr",
     "output_type": "stream",
     "text": [
      "c:\\Users\\chana\\anaconda3\\envs\\rag\\Lib\\site-packages\\huggingface_hub\\file_download.py:1132: FutureWarning: `resume_download` is deprecated and will be removed in version 1.0.0. Downloads always resume when possible. If you want to force a new download, use `force_download=True`.\n",
      "  warnings.warn(\n"
     ]
    }
   ],
   "source": [
    "d = DocSearcher(gt,embedding_model = HuggingFaceEmbeddings(model_name='mrp/simcse-model-m-bert-thai-cased'))"
   ]
  },
  {
   "cell_type": "code",
   "execution_count": 206,
   "id": "e22e0597-28a4-456d-8023-0764e106ee8c",
   "metadata": {},
   "outputs": [],
   "source": [
    "q = 'การที่ NR ถอนเงินจาก NRBA ต้องเรียกเอกสารไหม?'"
   ]
  },
  {
   "cell_type": "code",
   "execution_count": 207,
   "id": "8a7a549f-2c67-4ff9-8a36-81d5de7c7577",
   "metadata": {},
   "outputs": [
    {
     "name": "stdout",
     "output_type": "stream",
     "text": [
      "                                              Question  \\\n",
      "0    กรณีบุคคลที่มีถิ่นที่อยู่นอกประเทศ (Non-reside...   \n",
      "1    กรณี NR ลงทุนโดยตรงโดยทยอยซื้อหุ้นครั้งละไม่ถึ...   \n",
      "2    NR จะเปลี่ยนประเภทบัญชีจาก NRBA เป็น NRBS ได้ห...   \n",
      "3    NR สามารถโอนเงินเพื่อซื้อขายหลักทรัพย์และตรา ส...   \n",
      "4              กรณีโอนเงินเข้าผิดบัญชี จะต้องทำอย่างไร   \n",
      "..                                                 ...   \n",
      "137  ผู้ประกอบธุรกิจ FX e-money สามารถ เติมเงินให้แ...   \n",
      "138  ผู้ประกอบธุรกิจเงินอิเล็กทรอนิกส์สกุลเงินตรา ต...   \n",
      "139  ผู้ประกอบธุรกิจจ าเป็นต้องมีทั้งบัญชีเงินฝาก เ...   \n",
      "140  ผู้ประกอบธุรกิจ FX e-money สามารถซื้อ เงินตราต...   \n",
      "141  การรายงานการดำรงส่วนของผู้ถือหุ้นภายใน 30 วันน...   \n",
      "\n",
      "                                                Answer  \\\n",
      "0    - หากเป็นการลงทุนที่มีสัดส่วนตั้งแต่ 10% ของหุ...   \n",
      "1    - เมื่อ NR จะนำเงินค่าขายหุ้นฝากเข้าบัญชี หาก ...   \n",
      "2                        ต้องขออนุญาต ธปท. เป็นรายกรณี   \n",
      "3    หากมีเหตุผลชัดเจนสามารถยื่นขออนุญาตต่อ ธปท. เป...   \n",
      "4                      เป็นกรณีที่ต้องขออนุญาตต่อ ธปท.   \n",
      "..                                                 ...   \n",
      "137  ผู้ประกอบธุรกิจสามารถเติมเงินให้ลูกค้าได้โดย 1...   \n",
      "138  ผู้ประกอบธุรกิจจะต้องดำรง float ในส่วนของ เงิน...   \n",
      "139  ผู้ประกอบธุรกิจต้องมีบัญชีเงินฝากเพื่อการด ารง...   \n",
      "140  สามารถทำได้เพื่อวัตถุประสงค์ที่เกี่ยวข้องกับ ก...   \n",
      "141  ให้รายงานผ่านระบบ e-application ส าหรับ ผู้ให้...   \n",
      "\n",
      "                                                 Group Group_short  \\\n",
      "0    1.1 บัญชีเงินบาทของบุคคลที่มีถิ่นที่อยู่นอกประเทศ         1.1   \n",
      "1    1.1 บัญชีเงินบาทของบุคคลที่มีถิ่นที่อยู่นอกประเทศ         1.1   \n",
      "2    1.1 บัญชีเงินบาทของบุคคลที่มีถิ่นที่อยู่นอกประเทศ         1.1   \n",
      "3    1.1 บัญชีเงินบาทของบุคคลที่มีถิ่นที่อยู่นอกประเทศ         1.1   \n",
      "4    1.1 บัญชีเงินบาทของบุคคลที่มีถิ่นที่อยู่นอกประเทศ         1.1   \n",
      "..                                                 ...         ...   \n",
      "137                                      4. FX E-money         4.0   \n",
      "138                                      4. FX E-money         4.0   \n",
      "139                                      4. FX E-money         4.0   \n",
      "140                                      4. FX E-money         4.0   \n",
      "141                                      4. FX E-money         4.0   \n",
      "\n",
      "                                     context_embedding  \\\n",
      "0    [0.015969703, 0.023586353, -0.008319741, 0.001...   \n",
      "1    [0.0016057916, 0.039699554, -0.031389393, -0.0...   \n",
      "2    [-0.0031312427, 0.060884293, -0.007509363, 0.0...   \n",
      "3    [-0.0032350004, 0.06611329, -0.01144534, 0.007...   \n",
      "4    [0.00019250988, 0.03650914, 0.01162006, 0.0013...   \n",
      "..                                                 ...   \n",
      "137  [0.020734169, -0.01264611, -0.09233267, -0.003...   \n",
      "138  [0.04754509, 0.029137565, -0.071943, 0.0535263...   \n",
      "139  [0.04889418, 0.029523822, -0.04666728, 0.04759...   \n",
      "140  [0.056185704, -0.017785164, -0.07458968, 0.043...   \n",
      "141  [0.028633906, -0.029887132, -0.027300779, -0.0...   \n",
      "\n",
      "     similarity_score_vector  \\\n",
      "0                   0.678437   \n",
      "1                   0.838237   \n",
      "2                   0.942469   \n",
      "3                   0.944679   \n",
      "4                   0.593155   \n",
      "..                       ...   \n",
      "137                 0.374362   \n",
      "138                 0.437048   \n",
      "139                 0.444744   \n",
      "140                 0.359261   \n",
      "141                 0.430313   \n",
      "\n",
      "                                                   Q_A  \n",
      "0    กรณีบุคคลที่มีถิ่นที่อยู่นอกประเทศ (Non-reside...  \n",
      "1    กรณี NR ลงทุนโดยตรงโดยทยอยซื้อหุ้นครั้งละไม่ถึ...  \n",
      "2    NR จะเปลี่ยนประเภทบัญชีจาก NRBA เป็น NRBS ได้ห...  \n",
      "3    NR สามารถโอนเงินเพื่อซื้อขายหลักทรัพย์และตรา ส...  \n",
      "4    กรณีโอนเงินเข้าผิดบัญชี จะต้องทำอย่างไรเป็นกรณ...  \n",
      "..                                                 ...  \n",
      "137  ผู้ประกอบธุรกิจ FX e-money สามารถ เติมเงินให้แ...  \n",
      "138  ผู้ประกอบธุรกิจเงินอิเล็กทรอนิกส์สกุลเงินตรา ต...  \n",
      "139  ผู้ประกอบธุรกิจจ าเป็นต้องมีทั้งบัญชีเงินฝาก เ...  \n",
      "140  ผู้ประกอบธุรกิจ FX e-money สามารถซื้อ เงินตราต...  \n",
      "141  การรายงานการดำรงส่วนของผู้ถือหุ้นภายใน 30 วันน...  \n",
      "\n",
      "[142 rows x 7 columns]\n"
     ]
    },
    {
     "data": {
      "text/plain": [
       "{'1.1': 0.8096773096494098,\n",
       " '1.7': 0.594253802244597,\n",
       " '1.4': 0.5416368344419277,\n",
       " '1.6': 0.5200356549919426,\n",
       " '1.2': 0.49177490321971173,\n",
       " '1.5': 0.4824118899734247,\n",
       " '2.0': 0.47813980505835796,\n",
       " '3.0': 0.4714277814803285,\n",
       " '1.3': 0.43012600160677633,\n",
       " '4.0': 0.3893516515091697}"
      ]
     },
     "execution_count": 207,
     "metadata": {},
     "output_type": "execute_result"
    }
   ],
   "source": [
    "d.get_section_vector_scores(q)"
   ]
  },
  {
   "cell_type": "code",
   "execution_count": 174,
   "id": "bec44c5b-a7c8-4cba-91f8-53e6bc14521f",
   "metadata": {},
   "outputs": [
    {
     "data": {
      "text/plain": [
       "{'1.1': 0.5452272704718495,\n",
       " '1.7': 0.4647919935454328,\n",
       " '1.6': 0.12810887257586406,\n",
       " '1.3': 0.060689435456089194,\n",
       " '4.0': 0.05941117563934766,\n",
       " '3.0': 0.052186500985608654,\n",
       " '2.0': 0.05156201566508005,\n",
       " '1.5': 0.05093485026381017,\n",
       " '1.2': 0.04851159634917878,\n",
       " '1.4': 0.029434980363083046}"
      ]
     },
     "execution_count": 174,
     "metadata": {},
     "output_type": "execute_result"
    }
   ],
   "source": [
    "d.get_section_tfidf_scores(q)"
   ]
  },
  {
   "cell_type": "code",
   "execution_count": 190,
   "id": "798aa532-7c18-49f8-9e14-ed6ee8fb5ac5",
   "metadata": {},
   "outputs": [],
   "source": [
    "retrieved_documents = d.query_documents(q,k = 6,num_section = 1)"
   ]
  },
  {
   "cell_type": "code",
   "execution_count": 192,
   "id": "8a3175bd-1ae8-4f2b-856a-5dc562cc19ff",
   "metadata": {},
   "outputs": [],
   "source": [
    "retrieved_documents_tfidf = d.query_documents(q,method = 'tfidf')"
   ]
  },
  {
   "cell_type": "code",
   "execution_count": 194,
   "id": "cbbeaaa8-5be9-4e5b-b408-f682c508afd4",
   "metadata": {},
   "outputs": [],
   "source": [
    "retrieved_documents_vector = d.query_documents(q,method = 'vector')"
   ]
  },
  {
   "cell_type": "code",
   "execution_count": 195,
   "id": "489dcf89-a45d-4282-919c-7669df48aa9f",
   "metadata": {},
   "outputs": [],
   "source": [
    "# print(generate_prompt(q,retrieved_documents_tfidf,d.group_key))"
   ]
  },
  {
   "cell_type": "code",
   "execution_count": 196,
   "id": "83ef39a2-1073-4cc2-b70e-9b0cc1b4ffe6",
   "metadata": {},
   "outputs": [
    {
     "name": "stdout",
     "output_type": "stream",
     "text": [
      " \n",
      "    Based on the context below answer the given question. Given Question: การที่ NR ถอนเงินจาก NRBA ต้องเรียกเอกสารไหม?\n",
      "    ----------------------------- Context -----------------------------\n",
      "    -------1.1 บัญชีเงินบาทของบุคคลที่มีถิ่นที่อยู่นอกประเทศ-------\n",
      " Question: NR สามารถโอนเงินเพื่อซื้อขายหลักทรัพย์และตรา สารทางการเงินอื่นจากบัญชี NRBA ไปเข้าบัญชี NRBS ได้หรือไม่\n",
      " Answer: หากมีเหตุผลชัดเจนสามารถยื่นขออนุญาตต่อ ธปท. เป็นรายกรณีได้ \n",
      " Question: NR จะเปลี่ยนประเภทบัญชีจาก NRBA เป็น NRBS ได้หรือไม่\n",
      " Answer: ต้องขออนุญาต ธปท. เป็นรายกรณี \n",
      " Question: ในกรณีที่ NR ถอนเงินจากบัญชี NRBA หรือ NRBS ธพ. จะต้องเรียกเอกสารหลักฐานแสดงวัตถุประสงค์ การถอนหรือไม่\n",
      " Answer: ธพ. ไม่ต้องเรียกเอกสารแสดงวัตถุประสงค์การถอน เงินดังกล่าวจาก NR อย่างไรก็ตาม ธพ. ต้องดูแลให้ วัตถุประสงค์การถอนเงินเป็นไปตามวัตถุประสงค์ ของแต่ละประเภทบัญชี หรือหาก ธพ. ไม่แน่ใจ อาจเรียกเอกสารหลักฐานเพิ่มเติมได้ \n",
      " Question: การฝากหรือถอนเงินในบัญชีNRBA และ NRBS กรณี NR ขายหรือซื้อเงินตราต่างประเทศกับต่าง ธพ. จะต้องเรียกเอกสารหลักฐานอย่างไร\n",
      " Answer: ให้ ธพ. ที่ทำธุรกรรมกับ NR ยืนยันว่าได้ทำธุรกรรม ซื้อหรือขายเงินตราต่างประเทศกับ NR จริง \n",
      " Question: ในกรณีที่ ธพ. ให้ NR ถอนเงินจากบัญชี NRBA เช่นถอนเป็นเงินสดหรือใช้เช็คเงินสด ต่อมา หาก NRนำไปฝากเข้าบัญชีNRBS ในกรณีดังกล่าวจะถือว่าเป็นหน้าที่ในการตรวจสอบของ ธพ. ของผู้โอนหรือผู้รับโอน\n",
      " Answer: ธพ. ของผู้โอน และ ธพ. ของผู้รับโอน มีหน้าที่ ตรวจสอบวัตถุประสงค์การถอนและการฝากให้ ถูกต้องตามเกณฑ์ที่กำหนด \n",
      " Question: กรณี NR ลงทุนโดยตรงโดยทยอยซื้อหุ้นครั้งละไม่ถึง 10% ของหุ้นทั้งหมดของกิจการ ผ่านบัญชี NRBS เมื่อขายหุ้นดังกล่าวจะนำเงินเข้าบัญชี NRBA ได้หรือไม่\n",
      " Answer: - เมื่อ NR จะนำเงินค่าขายหุ้นฝากเข้าบัญชี หาก NR แสดงเอกสารการลงทุนโดยมีสัดส่วนการถือหุ้นก่อน การขายหุ้นครั้งล่าสุดตั้งแต่ 10% ขึ้นไป NR สามารถ นำเงินค่าขายหุ้นดังกล่าวเข้าบัญชี NRBA ได้แม้ว่า จะขายหุ้นในสัดส่วนไม่ถึง 10% - หากในวันที่ NR จะนำเงินค่าขายหุ้นฝากเข้าบัญชี NR แสดงเอกสารการลงทุนโดยมีสัดส่วนการถือหุ้น ก่อนการขายหุ้นครั้งล่าสุดลดลงต่ำกว่า 10% จะต้อง นำเงินค่าขายหุ้นในส่วนที่เหลือเข้าบัญชี NRBS หรือ ต้องขออนุญาตต่อ ธปท. หากต้องการนำเข้าบัญชี NRBA\n",
      "\n",
      "        \n"
     ]
    }
   ],
   "source": [
    "print(generate_prompt(q,retrieved_documents,d.group_key))"
   ]
  },
  {
   "cell_type": "code",
   "execution_count": 197,
   "id": "0a2e7d02-e8ca-41f1-afb5-bca5e4e21b0f",
   "metadata": {},
   "outputs": [],
   "source": [
    "reranked_context = rerank_documents(q,retrieved_documents)"
   ]
  },
  {
   "cell_type": "code",
   "execution_count": 198,
   "id": "485e2c50-ab25-4a26-80e8-bfb26c98211c",
   "metadata": {},
   "outputs": [
    {
     "name": "stdout",
     "output_type": "stream",
     "text": [
      " \n",
      "    Based on the context below answer the given question. Given Question: การที่ NR ถอนเงินจาก NRBA ต้องเรียกเอกสารไหม?\n",
      "    ----------------------------- Context -----------------------------\n",
      "    -------1.1 บัญชีเงินบาทของบุคคลที่มีถิ่นที่อยู่นอกประเทศ-------\n",
      " Question: ในกรณีที่ NR ถอนเงินจากบัญชี NRBA หรือ NRBS ธพ. จะต้องเรียกเอกสารหลักฐานแสดงวัตถุประสงค์ การถอนหรือไม่\n",
      " Answer: ธพ. ไม่ต้องเรียกเอกสารแสดงวัตถุประสงค์การถอน เงินดังกล่าวจาก NR อย่างไรก็ตาม ธพ. ต้องดูแลให้ วัตถุประสงค์การถอนเงินเป็นไปตามวัตถุประสงค์ ของแต่ละประเภทบัญชี หรือหาก ธพ. ไม่แน่ใจ อาจเรียกเอกสารหลักฐานเพิ่มเติมได้ \n",
      " Question: การฝากหรือถอนเงินในบัญชีNRBA และ NRBS กรณี NR ขายหรือซื้อเงินตราต่างประเทศกับต่าง ธพ. จะต้องเรียกเอกสารหลักฐานอย่างไร\n",
      " Answer: ให้ ธพ. ที่ทำธุรกรรมกับ NR ยืนยันว่าได้ทำธุรกรรม ซื้อหรือขายเงินตราต่างประเทศกับ NR จริง \n",
      " Question: ในกรณีที่ ธพ. ให้ NR ถอนเงินจากบัญชี NRBA เช่นถอนเป็นเงินสดหรือใช้เช็คเงินสด ต่อมา หาก NRนำไปฝากเข้าบัญชีNRBS ในกรณีดังกล่าวจะถือว่าเป็นหน้าที่ในการตรวจสอบของ ธพ. ของผู้โอนหรือผู้รับโอน\n",
      " Answer: ธพ. ของผู้โอน และ ธพ. ของผู้รับโอน มีหน้าที่ ตรวจสอบวัตถุประสงค์การถอนและการฝากให้ ถูกต้องตามเกณฑ์ที่กำหนด \n",
      " Question: กรณี NR ลงทุนโดยตรงโดยทยอยซื้อหุ้นครั้งละไม่ถึง 10% ของหุ้นทั้งหมดของกิจการ ผ่านบัญชี NRBS เมื่อขายหุ้นดังกล่าวจะนำเงินเข้าบัญชี NRBA ได้หรือไม่\n",
      " Answer: - เมื่อ NR จะนำเงินค่าขายหุ้นฝากเข้าบัญชี หาก NR แสดงเอกสารการลงทุนโดยมีสัดส่วนการถือหุ้นก่อน การขายหุ้นครั้งล่าสุดตั้งแต่ 10% ขึ้นไป NR สามารถ นำเงินค่าขายหุ้นดังกล่าวเข้าบัญชี NRBA ได้แม้ว่า จะขายหุ้นในสัดส่วนไม่ถึง 10% - หากในวันที่ NR จะนำเงินค่าขายหุ้นฝากเข้าบัญชี NR แสดงเอกสารการลงทุนโดยมีสัดส่วนการถือหุ้น ก่อนการขายหุ้นครั้งล่าสุดลดลงต่ำกว่า 10% จะต้อง นำเงินค่าขายหุ้นในส่วนที่เหลือเข้าบัญชี NRBS หรือ ต้องขออนุญาตต่อ ธปท. หากต้องการนำเข้าบัญชี NRBA\n",
      "\n",
      "        \n"
     ]
    }
   ],
   "source": [
    "print(generate_prompt(q,reranked_context,d.group_key))"
   ]
  },
  {
   "cell_type": "markdown",
   "id": "48daf7a3-998d-49ac-84a9-a803cebcc86c",
   "metadata": {},
   "source": [
    "# Google's Gemini API"
   ]
  },
  {
   "cell_type": "code",
   "execution_count": null,
   "id": "66fd5744-6e26-4b66-8994-6897bc9f9cc6",
   "metadata": {},
   "outputs": [],
   "source": [
    "import google.generativeai as genai\n",
    "from keys import GEMINI_API_KEY"
   ]
  },
  {
   "cell_type": "code",
   "execution_count": 194,
   "id": "e32695de-90c4-4927-8943-c6db77d31e7e",
   "metadata": {},
   "outputs": [],
   "source": [
    "p = generate_prompt(q,reranked_context,d.group_key)"
   ]
  },
  {
   "cell_type": "code",
   "execution_count": 195,
   "id": "899963fc-a993-4fff-bcc7-7b382a1c530b",
   "metadata": {},
   "outputs": [
    {
     "name": "stdout",
     "output_type": "stream",
     "text": [
      " \n",
      "    Based on the context below answer the given question. Given Question: NR จะเปลี่ยนประเภทบัญชีจาก NRBA เป็น NRBS ได้หรือไม่\n",
      "    ----------------------------- Context -----------------------------\n",
      "    -------1.1 บัญชีเงินบาทของบุคคลที่มีถิ่นที่อยู่นอกประเทศ-------\n",
      " Question: NR จะเปลี่ยนประเภทบัญชีจาก NRBA เป็น NRBS ได้หรือไม่\n",
      " Answer: ต้องขออนุญาต ธปท. เป็นรายกรณี \n",
      " Question: NR สามารถโอนเงินเพื่อซื้อขายหลักทรัพย์และตรา สารทางการเงินอื่นจากบัญชี NRBA ไปเข้าบัญชี NRBS ได้หรือไม่\n",
      " Answer: หากมีเหตุผลชัดเจนสามารถยื่นขออนุญาตต่อ ธปท. เป็นรายกรณีได้ \n",
      " Question: ในกรณีที่ NR ถอนเงินจากบัญชี NRBA หรือ NRBS ธพ. จะต้องเรียกเอกสารหลักฐานแสดงวัตถุประสงค์ การถอนหรือไม่\n",
      " Answer: ธพ. ไม่ต้องเรียกเอกสารแสดงวัตถุประสงค์การถอน เงินดังกล่าวจาก NR อย่างไรก็ตาม ธพ. ต้องดูแลให้ วัตถุประสงค์การถอนเงินเป็นไปตามวัตถุประสงค์ ของแต่ละประเภทบัญชี หรือหาก ธพ. ไม่แน่ใจ อาจเรียกเอกสารหลักฐานเพิ่มเติมได้ \n",
      " Question: กรณี NR ลงทุนโดยตรงโดยทยอยซื้อหุ้นครั้งละไม่ถึง 10% ของหุ้นทั้งหมดของกิจการ ผ่านบัญชี NRBS เมื่อขายหุ้นดังกล่าวจะนำเงินเข้าบัญชี NRBA ได้หรือไม่\n",
      " Answer: - เมื่อ NR จะนำเงินค่าขายหุ้นฝากเข้าบัญชี หาก NR แสดงเอกสารการลงทุนโดยมีสัดส่วนการถือหุ้นก่อน การขายหุ้นครั้งล่าสุดตั้งแต่ 10% ขึ้นไป NR สามารถ นำเงินค่าขายหุ้นดังกล่าวเข้าบัญชี NRBA ได้แม้ว่า จะขายหุ้นในสัดส่วนไม่ถึง 10% - หากในวันที่ NR จะนำเงินค่าขายหุ้นฝากเข้าบัญชี NR แสดงเอกสารการลงทุนโดยมีสัดส่วนการถือหุ้น ก่อนการขายหุ้นครั้งล่าสุดลดลงต่ำกว่า 10% จะต้อง นำเงินค่าขายหุ้นในส่วนที่เหลือเข้าบัญชี NRBS หรือ ต้องขออนุญาตต่อ ธปท. หากต้องการนำเข้าบัญชี NRBA\n",
      "-------1.7 กระบวนการ Know Your Business (KYB)-------\n",
      " Question: ลูกค้าไทยที่ผ่านกระบวนการ KYB ของ ธพ.หนึ่งแล้ว ต้องการโอนเงินบาทเพื่อชำระภาระผูกพันให้แก่ NR โดยฝากเข้าบัญชี NRBA/NRBS ที่ NR เปิดบัญชีอยู่ กับ ธพ.อื่น ธพ. ผู้รับฝากเงินบาทเข้าบัญชี NRBA/NRBS ต้องเรียกเอกสารหลักฐานหรือไม่ อย่างไร\n",
      " Answer: ธพ. ที่รับฝากเงินต้องดูแลให้การฝากเงินเป็นไปตาม วัตถุประสงค์ที่กำหนด โดยเรียกหลักฐานจาก ธพ.ต้นทางที่ดูแลลูกค้าไทย ซึ่งได้รับรองว่าลูกค้าไทย ได้ผ่านกระบวนการ KYB แล้ว \n",
      " Question: NR ขอซื้อเงินตราต่างประเทศ สามารถใช้การ KYB โดยไม่ต้องเรียกเอกสารได้หรือไม่\n",
      " Answer: ไม่สามารถทำได้ การขอซื้อเงินตราต่างประเทศของ NR ให้เรียกเอกสารแสดงแหล่งที่มาของเงินบาทของ NR สำหรับธุรกรรมที่มีมูลค่าตั้งแต่ USD 200,000\n",
      "-------1.3 บัญชีเงินฝากเงินตราต่างประเทศ (FCD)-------\n",
      " Question: บัญชี FCD ที่เปิดให้กับลูกค้า จะสามารถเปิดเป็น ประเภทออมทรัพย์ ประจำ หรือกระแสรายวัน ได้ ใช่หรือไม่\n",
      " Answer: สามารถเปิดเป็นประเภทใดก็ได้ตามที่กล่าว\n",
      "-------1.6 อื่นๆ เช่น การทำธุรกรรมแทนกิจการในเครือ เงินกู้ การฝากเงินในบัญชีในต่างประเทศ-------\n",
      " Question: กรณีบริษัทไทยขายสินค้าให้กับบริษัทไทยหรือบริษัท ในต่างประเทศเป็นสกุลบาทหรือสกุลเงินตรา ต่างประเทศ และบริษัทไทยดังกล่าวจะขายลดตั๋วหรือ ขายลูกหนี้ดังกล่าวให้แก่ ธพ. หรือ NR เป็นเงินตรา ต่างประเทศ จะสามารถรับจ่ายเงินตราต่างประเทศได้ อย่างไรบ้าง\n",
      " Answer: บริษัทสามารถรับเงินตราต่างประเทศจากคู่สัญญาที่ เกี่ยวข้องกับธุรกรรมดังกล่าว รวมทั้งสามารถซื้อหรือ ถอนเงินตราต่างประเทศเพื่อชำระให้แก่คู่สัญญา ดังกล่าวได้\n",
      "-------1.4 เงินลงทุนโดยตรงหรือเงินให้กู้ในต่างประเทศ-------\n",
      " Question: ลูกค้าสามารถส่งเงินไปลงทุนโดยตรงในต่างประเทศ โดยส่งไปฝากเข้าบัญชีของตนเองในต่างประเทศก่อน ได้หรือไม\n",
      " Answer: สามารถทำได้ โดยให้ ธพ. ใช้หลักการกระบวนการ รู้จักลูกค้า Know your business (KYB) หรือเรียก เอกสารที่เกี่ยวข้องกับการลงทุนของลูกค้า เพื่อให้มั่นใจ ว่าไม่ใช่การนำเงินไปฝากเพื่อนำไปชำระตาม วัตถุประสงค์ที่เป็น Negative list2\n",
      "\n",
      "        \n"
     ]
    }
   ],
   "source": [
    "print(p)"
   ]
  },
  {
   "cell_type": "code",
   "execution_count": 196,
   "id": "12a0aa7c-66db-4b33-821b-5fd141d2d89d",
   "metadata": {},
   "outputs": [
    {
     "name": "stdout",
     "output_type": "stream",
     "text": [
      "I'm sorry, but I cannot answer this question. The document is structured as a series of FAQs, and it's difficult to extract the meaning of \"NR\", \"NRBA\", and \"NRBS\" from the provided text. Please provide a definition or more context for these terms. \n",
      "\n"
     ]
    }
   ],
   "source": [
    "genai.configure(api_key=GEMINI_API_KEY)\n",
    "model = genai.GenerativeModel('gemini-1.5-pro')\n",
    "response = model.generate_content(p)\n",
    "print(response.text)"
   ]
  },
  {
   "cell_type": "markdown",
   "id": "b151bdae-aedc-4a3e-97b7-b76266c3fe20",
   "metadata": {},
   "source": [
    "## Fuzzy Matching: Exploration"
   ]
  },
  {
   "cell_type": "code",
   "execution_count": 48,
   "id": "9412032b-8fd9-4de6-95d8-31642c676f0c",
   "metadata": {},
   "outputs": [],
   "source": [
    "from fuzzywuzzy import fuzz"
   ]
  },
  {
   "cell_type": "code",
   "execution_count": 49,
   "id": "78ed4485-e7ea-40a6-8eb0-68d04e269b69",
   "metadata": {},
   "outputs": [
    {
     "name": "stdout",
     "output_type": "stream",
     "text": [
      "29\n"
     ]
    }
   ],
   "source": [
    "a = 'เกณ์การ KYB มีอะไรบ้าง'.lower()\n",
    "b = \"ผู้ประกอบธุรกิจ FX e-money สามารถ เติมเงินให้แก่ลูกค้าได้อย่างไรบ้าง\".lower()\n",
    "Ratio = fuzz.ratio(a,b)\n",
    "print(Ratio)"
   ]
  },
  {
   "cell_type": "code",
   "execution_count": 50,
   "id": "b540f223-d5e9-4ed5-b4ee-3103a6a529c0",
   "metadata": {},
   "outputs": [],
   "source": [
    "query = 'NR ต้องการมาลงทุนในประเทศต้องทำอย่างไร?'.lower()\n",
    "gt['fuzz'] = gt.apply(lambda x: fuzz.token_set_ratio(x['Question'],query), axis=1)"
   ]
  },
  {
   "cell_type": "code",
   "execution_count": 51,
   "id": "d437fd66-9d3f-42aa-bb8a-e97a13b8c2b9",
   "metadata": {},
   "outputs": [
    {
     "data": {
      "text/plain": [
       "array(['1.1 บัญชีเงินบาทของบุคคลที่มีถิ่นที่อยู่นอกประเทศ',\n",
       "       '1.2 การนำเงินตราต่างประเทศกลับเข้าประเทศ',\n",
       "       '1.3 บัญชีเงินฝากเงินตราต่างประเทศ (FCD)',\n",
       "       '1.4 เงินลงทุนโดยตรงหรือเงินให้กู้ในต่างประเทศ',\n",
       "       '1.5 เงินลงทุนในหลักทรัพย์ต่างประเทศ',\n",
       "       '1.6 อื่นๆ เช่น การทำธุรกรรมแทนกิจการในเครือ เงินกู้ การฝากเงินในบัญชีในต่างประเทศ',\n",
       "       '1.7 กระบวนการ Know Your Business (KYB)',\n",
       "       '2. การทำธุรกรรมอนุพันธ์', '3. ศูนย์บริหารเงิน', '4. FX E-money'],\n",
       "      dtype=object)"
      ]
     },
     "execution_count": 51,
     "metadata": {},
     "output_type": "execute_result"
    }
   ],
   "source": [
    "gt['Group'].unique()"
   ]
  },
  {
   "cell_type": "code",
   "execution_count": 52,
   "id": "58c41d61-b5a9-4b2b-b06f-68df8f400420",
   "metadata": {},
   "outputs": [
    {
     "data": {
      "text/plain": [
       "Group_short\n",
       "1.7    0.119862\n",
       "1.1    0.111084\n",
       "1.4    0.105989\n",
       "4.0    0.101966\n",
       "1.3    0.097388\n",
       "1.5    0.096679\n",
       "1.2    0.095815\n",
       "1.6    0.091937\n",
       "3.0    0.090152\n",
       "2.0    0.089128\n",
       "Name: fuzz, dtype: float64"
      ]
     },
     "execution_count": 52,
     "metadata": {},
     "output_type": "execute_result"
    }
   ],
   "source": [
    "gt.groupby(['Group_short'])['fuzz'].mean().sort_values(ascending = False)/gt.groupby(['Group_short'])['fuzz'].mean().sort_values(ascending = False).sum()"
   ]
  },
  {
   "cell_type": "code",
   "execution_count": 53,
   "id": "b999e728-d8de-47bf-9652-3a5721cdf654",
   "metadata": {},
   "outputs": [
    {
     "data": {
      "text/html": [
       "<div>\n",
       "<style scoped>\n",
       "    .dataframe tbody tr th:only-of-type {\n",
       "        vertical-align: middle;\n",
       "    }\n",
       "\n",
       "    .dataframe tbody tr th {\n",
       "        vertical-align: top;\n",
       "    }\n",
       "\n",
       "    .dataframe thead th {\n",
       "        text-align: right;\n",
       "    }\n",
       "</style>\n",
       "<table border=\"1\" class=\"dataframe\">\n",
       "  <thead>\n",
       "    <tr style=\"text-align: right;\">\n",
       "      <th></th>\n",
       "      <th>Question</th>\n",
       "      <th>Answer</th>\n",
       "      <th>Group</th>\n",
       "      <th>Group_short</th>\n",
       "      <th>context_embedding</th>\n",
       "      <th>similarity_score_vector</th>\n",
       "      <th>fuzz</th>\n",
       "    </tr>\n",
       "  </thead>\n",
       "  <tbody>\n",
       "    <tr>\n",
       "      <th>0</th>\n",
       "      <td>กรณีบุคคลที่มีถิ่นที่อยู่นอกประเทศ (Non-reside...</td>\n",
       "      <td>- หากเป็นการลงทุนที่มีสัดส่วนตั้งแต่ 10% ของหุ...</td>\n",
       "      <td>1.1 บัญชีเงินบาทของบุคคลที่มีถิ่นที่อยู่นอกประเทศ</td>\n",
       "      <td>1.1</td>\n",
       "      <td>[0.057255879044532776, 0.0076107457280159, -0....</td>\n",
       "      <td>0.151052</td>\n",
       "      <td>47</td>\n",
       "    </tr>\n",
       "    <tr>\n",
       "      <th>1</th>\n",
       "      <td>กรณี NR ลงทุนโดยตรงโดยทยอยซื้อหุ้นครั้งละไม่ถึ...</td>\n",
       "      <td>- เมื่อ NR จะนำเงินค่าขายหุ้นฝากเข้าบัญชี หาก ...</td>\n",
       "      <td>1.1 บัญชีเงินบาทของบุคคลที่มีถิ่นที่อยู่นอกประเทศ</td>\n",
       "      <td>1.1</td>\n",
       "      <td>[-0.23912641406059265, 0.6383059024810791, 0.7...</td>\n",
       "      <td>0.447697</td>\n",
       "      <td>28</td>\n",
       "    </tr>\n",
       "    <tr>\n",
       "      <th>2</th>\n",
       "      <td>NR จะเปลี่ยนประเภทบัญชีจาก NRBA เป็น NRBS ได้ห...</td>\n",
       "      <td>ต้องขออนุญาต ธปท. เป็นรายกรณี</td>\n",
       "      <td>1.1 บัญชีเงินบาทของบุคคลที่มีถิ่นที่อยู่นอกประเทศ</td>\n",
       "      <td>1.1</td>\n",
       "      <td>[0.09722046554088593, 0.23035705089569092, 0.8...</td>\n",
       "      <td>0.308751</td>\n",
       "      <td>39</td>\n",
       "    </tr>\n",
       "    <tr>\n",
       "      <th>3</th>\n",
       "      <td>NR สามารถโอนเงินเพื่อซื้อขายหลักทรัพย์และตรา ส...</td>\n",
       "      <td>หากมีเหตุผลชัดเจนสามารถยื่นขออนุญาตต่อ ธปท. เป...</td>\n",
       "      <td>1.1 บัญชีเงินบาทของบุคคลที่มีถิ่นที่อยู่นอกประเทศ</td>\n",
       "      <td>1.1</td>\n",
       "      <td>[0.251921147108078, -0.34538087248802185, 0.09...</td>\n",
       "      <td>0.230281</td>\n",
       "      <td>32</td>\n",
       "    </tr>\n",
       "    <tr>\n",
       "      <th>4</th>\n",
       "      <td>กรณีโอนเงินเข้าผิดบัญชี จะต้องทำอย่างไร</td>\n",
       "      <td>เป็นกรณีที่ต้องขออนุญาตต่อ ธปท.</td>\n",
       "      <td>1.1 บัญชีเงินบาทของบุคคลที่มีถิ่นที่อยู่นอกประเทศ</td>\n",
       "      <td>1.1</td>\n",
       "      <td>[-0.8113080859184265, 0.04314675182104111, -0....</td>\n",
       "      <td>0.033619</td>\n",
       "      <td>53</td>\n",
       "    </tr>\n",
       "    <tr>\n",
       "      <th>...</th>\n",
       "      <td>...</td>\n",
       "      <td>...</td>\n",
       "      <td>...</td>\n",
       "      <td>...</td>\n",
       "      <td>...</td>\n",
       "      <td>...</td>\n",
       "      <td>...</td>\n",
       "    </tr>\n",
       "    <tr>\n",
       "      <th>137</th>\n",
       "      <td>ผู้ประกอบธุรกิจ FX e-money สามารถ เติมเงินให้แ...</td>\n",
       "      <td>ผู้ประกอบธุรกิจสามารถเติมเงินให้ลูกค้าได้โดย 1...</td>\n",
       "      <td>4. FX E-money</td>\n",
       "      <td>4.0</td>\n",
       "      <td>[-0.49097779393196106, 0.5335206985473633, 0.2...</td>\n",
       "      <td>-0.142624</td>\n",
       "      <td>42</td>\n",
       "    </tr>\n",
       "    <tr>\n",
       "      <th>138</th>\n",
       "      <td>ผู้ประกอบธุรกิจเงินอิเล็กทรอนิกส์สกุลเงินตรา ต...</td>\n",
       "      <td>ผู้ประกอบธุรกิจจะต้องดำรง float ในส่วนของ เงิน...</td>\n",
       "      <td>4. FX E-money</td>\n",
       "      <td>4.0</td>\n",
       "      <td>[0.0936984121799469, 0.4437811076641083, -0.56...</td>\n",
       "      <td>-0.041669</td>\n",
       "      <td>28</td>\n",
       "    </tr>\n",
       "    <tr>\n",
       "      <th>139</th>\n",
       "      <td>ผู้ประกอบธุรกิจจ าเป็นต้องมีทั้งบัญชีเงินฝาก เ...</td>\n",
       "      <td>ผู้ประกอบธุรกิจต้องมีบัญชีเงินฝากเพื่อการด ารง...</td>\n",
       "      <td>4. FX E-money</td>\n",
       "      <td>4.0</td>\n",
       "      <td>[0.24193742871284485, 0.9761651754379272, 0.60...</td>\n",
       "      <td>-0.041665</td>\n",
       "      <td>23</td>\n",
       "    </tr>\n",
       "    <tr>\n",
       "      <th>140</th>\n",
       "      <td>ผู้ประกอบธุรกิจ FX e-money สามารถซื้อ เงินตราต...</td>\n",
       "      <td>สามารถทำได้เพื่อวัตถุประสงค์ที่เกี่ยวข้องกับ ก...</td>\n",
       "      <td>4. FX E-money</td>\n",
       "      <td>4.0</td>\n",
       "      <td>[-0.6967499852180481, 0.3803589642047882, 0.21...</td>\n",
       "      <td>-0.093363</td>\n",
       "      <td>31</td>\n",
       "    </tr>\n",
       "    <tr>\n",
       "      <th>141</th>\n",
       "      <td>การรายงานการดำรงส่วนของผู้ถือหุ้นภายใน 30 วันน...</td>\n",
       "      <td>ให้รายงานผ่านระบบ e-application ส าหรับ ผู้ให้...</td>\n",
       "      <td>4. FX E-money</td>\n",
       "      <td>4.0</td>\n",
       "      <td>[0.10541579127311707, 0.5414716005325317, 0.14...</td>\n",
       "      <td>0.037294</td>\n",
       "      <td>30</td>\n",
       "    </tr>\n",
       "  </tbody>\n",
       "</table>\n",
       "<p>142 rows × 7 columns</p>\n",
       "</div>"
      ],
      "text/plain": [
       "                                              Question  \\\n",
       "0    กรณีบุคคลที่มีถิ่นที่อยู่นอกประเทศ (Non-reside...   \n",
       "1    กรณี NR ลงทุนโดยตรงโดยทยอยซื้อหุ้นครั้งละไม่ถึ...   \n",
       "2    NR จะเปลี่ยนประเภทบัญชีจาก NRBA เป็น NRBS ได้ห...   \n",
       "3    NR สามารถโอนเงินเพื่อซื้อขายหลักทรัพย์และตรา ส...   \n",
       "4              กรณีโอนเงินเข้าผิดบัญชี จะต้องทำอย่างไร   \n",
       "..                                                 ...   \n",
       "137  ผู้ประกอบธุรกิจ FX e-money สามารถ เติมเงินให้แ...   \n",
       "138  ผู้ประกอบธุรกิจเงินอิเล็กทรอนิกส์สกุลเงินตรา ต...   \n",
       "139  ผู้ประกอบธุรกิจจ าเป็นต้องมีทั้งบัญชีเงินฝาก เ...   \n",
       "140  ผู้ประกอบธุรกิจ FX e-money สามารถซื้อ เงินตราต...   \n",
       "141  การรายงานการดำรงส่วนของผู้ถือหุ้นภายใน 30 วันน...   \n",
       "\n",
       "                                                Answer  \\\n",
       "0    - หากเป็นการลงทุนที่มีสัดส่วนตั้งแต่ 10% ของหุ...   \n",
       "1    - เมื่อ NR จะนำเงินค่าขายหุ้นฝากเข้าบัญชี หาก ...   \n",
       "2                        ต้องขออนุญาต ธปท. เป็นรายกรณี   \n",
       "3    หากมีเหตุผลชัดเจนสามารถยื่นขออนุญาตต่อ ธปท. เป...   \n",
       "4                      เป็นกรณีที่ต้องขออนุญาตต่อ ธปท.   \n",
       "..                                                 ...   \n",
       "137  ผู้ประกอบธุรกิจสามารถเติมเงินให้ลูกค้าได้โดย 1...   \n",
       "138  ผู้ประกอบธุรกิจจะต้องดำรง float ในส่วนของ เงิน...   \n",
       "139  ผู้ประกอบธุรกิจต้องมีบัญชีเงินฝากเพื่อการด ารง...   \n",
       "140  สามารถทำได้เพื่อวัตถุประสงค์ที่เกี่ยวข้องกับ ก...   \n",
       "141  ให้รายงานผ่านระบบ e-application ส าหรับ ผู้ให้...   \n",
       "\n",
       "                                                 Group Group_short  \\\n",
       "0    1.1 บัญชีเงินบาทของบุคคลที่มีถิ่นที่อยู่นอกประเทศ         1.1   \n",
       "1    1.1 บัญชีเงินบาทของบุคคลที่มีถิ่นที่อยู่นอกประเทศ         1.1   \n",
       "2    1.1 บัญชีเงินบาทของบุคคลที่มีถิ่นที่อยู่นอกประเทศ         1.1   \n",
       "3    1.1 บัญชีเงินบาทของบุคคลที่มีถิ่นที่อยู่นอกประเทศ         1.1   \n",
       "4    1.1 บัญชีเงินบาทของบุคคลที่มีถิ่นที่อยู่นอกประเทศ         1.1   \n",
       "..                                                 ...         ...   \n",
       "137                                      4. FX E-money         4.0   \n",
       "138                                      4. FX E-money         4.0   \n",
       "139                                      4. FX E-money         4.0   \n",
       "140                                      4. FX E-money         4.0   \n",
       "141                                      4. FX E-money         4.0   \n",
       "\n",
       "                                     context_embedding  \\\n",
       "0    [0.057255879044532776, 0.0076107457280159, -0....   \n",
       "1    [-0.23912641406059265, 0.6383059024810791, 0.7...   \n",
       "2    [0.09722046554088593, 0.23035705089569092, 0.8...   \n",
       "3    [0.251921147108078, -0.34538087248802185, 0.09...   \n",
       "4    [-0.8113080859184265, 0.04314675182104111, -0....   \n",
       "..                                                 ...   \n",
       "137  [-0.49097779393196106, 0.5335206985473633, 0.2...   \n",
       "138  [0.0936984121799469, 0.4437811076641083, -0.56...   \n",
       "139  [0.24193742871284485, 0.9761651754379272, 0.60...   \n",
       "140  [-0.6967499852180481, 0.3803589642047882, 0.21...   \n",
       "141  [0.10541579127311707, 0.5414716005325317, 0.14...   \n",
       "\n",
       "     similarity_score_vector  fuzz  \n",
       "0                   0.151052    47  \n",
       "1                   0.447697    28  \n",
       "2                   0.308751    39  \n",
       "3                   0.230281    32  \n",
       "4                   0.033619    53  \n",
       "..                       ...   ...  \n",
       "137                -0.142624    42  \n",
       "138                -0.041669    28  \n",
       "139                -0.041665    23  \n",
       "140                -0.093363    31  \n",
       "141                 0.037294    30  \n",
       "\n",
       "[142 rows x 7 columns]"
      ]
     },
     "execution_count": 53,
     "metadata": {},
     "output_type": "execute_result"
    }
   ],
   "source": [
    "gt"
   ]
  },
  {
   "cell_type": "code",
   "execution_count": null,
   "id": "d2e105d5-3115-44ab-9424-756d73719d50",
   "metadata": {},
   "outputs": [],
   "source": []
  }
 ],
 "metadata": {
  "kernelspec": {
   "display_name": "Python 3 (ipykernel)",
   "language": "python",
   "name": "python3"
  },
  "language_info": {
   "codemirror_mode": {
    "name": "ipython",
    "version": 3
   },
   "file_extension": ".py",
   "mimetype": "text/x-python",
   "name": "python",
   "nbconvert_exporter": "python",
   "pygments_lexer": "ipython3",
   "version": "3.12.3"
  }
 },
 "nbformat": 4,
 "nbformat_minor": 5
}
