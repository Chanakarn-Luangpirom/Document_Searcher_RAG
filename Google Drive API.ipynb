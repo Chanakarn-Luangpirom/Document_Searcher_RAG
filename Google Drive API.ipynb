{
 "cells": [
  {
   "cell_type": "code",
   "execution_count": 10,
   "id": "8efad9a3-0506-47c6-b789-bbd662d1bb7f",
   "metadata": {},
   "outputs": [],
   "source": [
    "from googleapiclient.http import MediaFileUpload\n",
    "from google.oauth2 import service_account\n",
    "from googleapiclient.discovery import build\n",
    "from keys import GOOGLE_SERVICE_ACCOUNT_FILE\n",
    "import os\n",
    "import time"
   ]
  },
  {
   "cell_type": "code",
   "execution_count": 13,
   "id": "f3c91fee-7a09-4495-a2ca-58ed31d73843",
   "metadata": {},
   "outputs": [],
   "source": [
    "def create_foler_in_google_drive(name):\n",
    "    SCOPES = ['https://www.googleapis.com/auth/drive']\n",
    "    SERVICE_ACCOUNT_FILE = GOOGLE_SERVICE_ACCOUNT_FILE\n",
    "\n",
    "    creds = service_account.Credentials.from_service_account_file(SERVICE_ACCOUNT_FILE, scopes=SCOPES)\n",
    "    service = build('drive', 'v3', credentials=creds)\n",
    "    \n",
    "    # Create a folder\n",
    "    file_metadata = {\n",
    "        'name': name,\n",
    "        'mimeType': 'application/vnd.google-apps.folder'\n",
    "    }\n",
    "    \n",
    "    folder = service.files().create(body=file_metadata, fields='id').execute()\n",
    "    print('Folder ID:', folder.get('id'))\n",
    "\n",
    "create_foler_in_google_drive('Feedback')"
   ]
  },
  {
   "cell_type": "code",
   "execution_count": 14,
   "id": "8a64d5c9-1d17-4fc4-a329-bdeccf28eb23",
   "metadata": {},
   "outputs": [],
   "source": [
    "def upload_file_to_google_drive(file_path, mime_type, parent_folder_id=None):\n",
    "    SCOPES = ['https://www.googleapis.com/auth/drive']\n",
    "    SERVICE_ACCOUNT_FILE = GOOGLE_SERVICE_ACCOUNT_FILE\n",
    "\n",
    "    creds = service_account.Credentials.from_service_account_file(SERVICE_ACCOUNT_FILE, scopes=SCOPES)\n",
    "    service = build('drive', 'v3', credentials=creds)\n",
    "\n",
    "    # File metadata\n",
    "    file_metadata = {\n",
    "        'name': os.path.basename(file_path),\n",
    "    }\n",
    "    if parent_folder_id:\n",
    "        file_metadata['parents'] = [parent_folder_id]\n",
    "\n",
    "\n",
    "    media = MediaFileUpload(file_path, mimetype=mime_type)\n",
    "\n",
    "    # Upload file\n",
    "    file = service.files().create(\n",
    "        body=file_metadata,\n",
    "        media_body=media,\n",
    "        fields='id'\n",
    "    ).execute()\n",
    "    print(f\"File ID: {file.get('id')}\")\n",
    "\n",
    "\n",
    "parent_folder_id = '1wyZ2iQIkW5sUwr5q7iA_oaSxbH3hSoAm'\n",
    "file_path = 'data/ground_truth.xlsx'\n",
    "mime_type = 'application/vnd.openxmlformats-officedocument.spreadsheetml.sheet'\n",
    "upload_file_to_google_drive(file_path, mime_type,parent_folder_id)"
   ]
  },
  {
   "cell_type": "code",
   "execution_count": 12,
   "id": "23017e9c-0fc6-41a5-8d93-9178a88dc8c1",
   "metadata": {},
   "outputs": [
    {
     "name": "stdout",
     "output_type": "stream",
     "text": [
      "No files found.\n"
     ]
    }
   ],
   "source": [
    "def list_files_in_google_drive():\n",
    "    SCOPES = ['https://www.googleapis.com/auth/drive']\n",
    "    SERVICE_ACCOUNT_FILE = \"ragllm-426215-7fa337710395.json\"\n",
    "    creds = service_account.Credentials.from_service_account_file(SERVICE_ACCOUNT_FILE, scopes=SCOPES)\n",
    "    service = build('drive', 'v3', credentials=creds)\n",
    "\n",
    "    results = service.files().list(\n",
    "        pageSize=10, fields=\"nextPageToken, files(id, name)\"\n",
    "    ).execute()\n",
    "    items = results.get('files', [])\n",
    "\n",
    "    if not items:\n",
    "        print('No files found.') \n",
    "    else:\n",
    "        print('Files:')\n",
    "        for item in items:\n",
    "            print(f\"{item['name']} ({item['id']})\")\n",
    "list_files_in_google_drive()"
   ]
  },
  {
   "cell_type": "code",
   "execution_count": 11,
   "id": "8443b22b-2be1-48f7-a05f-d94b96817d4b",
   "metadata": {},
   "outputs": [
    {
     "name": "stdout",
     "output_type": "stream",
     "text": [
      "No files found.\n"
     ]
    }
   ],
   "source": [
    "def delete_all_files_and_folders():\n",
    "    SCOPES = ['https://www.googleapis.com/auth/drive']\n",
    "    SERVICE_ACCOUNT_FILE = \"ragllm-426215-7fa337710395.json\"\n",
    "    creds = service_account.Credentials.from_service_account_file(SERVICE_ACCOUNT_FILE, scopes=SCOPES)\n",
    "    service = build('drive', 'v3', credentials=creds)\n",
    "    page_token = None\n",
    "\n",
    "    while True:\n",
    "        response = service.files().list(q=\"trashed=false\",\n",
    "                                        spaces='drive',\n",
    "                                        fields='nextPageToken, files(id, name)',\n",
    "                                        pageToken=page_token).execute()\n",
    "\n",
    "        files = response.get('files', [])\n",
    "        if not files:\n",
    "            print(\"No files found.\")\n",
    "            break\n",
    "\n",
    "        for file in files:\n",
    "            try:\n",
    "                service.files().delete(fileId=file['id']).execute()\n",
    "                print(f\"Deleted file: {file['name']} (ID: {file['id']})\")\n",
    "                time.sleep(0.1)  # Sleep to avoid hitting the rate limit\n",
    "            except Exception as e:\n",
    "                print(f\"An error occurred: {e}\")\n",
    "\n",
    "        page_token = response.get('nextPageToken', None)\n",
    "        if page_token is None:\n",
    "            break\n",
    "\n",
    "delete_all_files_and_folders()"
   ]
  },
  {
   "cell_type": "code",
   "execution_count": null,
   "id": "e2ff07a9-2b57-47ec-90c2-431075aca743",
   "metadata": {},
   "outputs": [],
   "source": []
  }
 ],
 "metadata": {
  "kernelspec": {
   "display_name": "Python 3 (ipykernel)",
   "language": "python",
   "name": "python3"
  },
  "language_info": {
   "codemirror_mode": {
    "name": "ipython",
    "version": 3
   },
   "file_extension": ".py",
   "mimetype": "text/x-python",
   "name": "python",
   "nbconvert_exporter": "python",
   "pygments_lexer": "ipython3",
   "version": "3.12.3"
  }
 },
 "nbformat": 4,
 "nbformat_minor": 5
}
