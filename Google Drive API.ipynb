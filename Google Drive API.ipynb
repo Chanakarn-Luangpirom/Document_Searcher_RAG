{
 "cells": [
  {
   "cell_type": "code",
   "execution_count": 2,
   "id": "8efad9a3-0506-47c6-b789-bbd662d1bb7f",
   "metadata": {},
   "outputs": [],
   "source": [
    "from googleapiclient.http import MediaFileUpload, MediaIoBaseUpload\n",
    "from google.oauth2 import service_account\n",
    "from googleapiclient.discovery import build\n",
    "import os\n",
    "import time\n",
    "import json\n",
    "import io\n",
    "from datetime import datetime\n",
    "import pandas as pd\n"
   ]
  },
  {
   "cell_type": "code",
   "execution_count": 3,
   "id": "857fdfaa",
   "metadata": {},
   "outputs": [],
   "source": [
    "TYPE = os.environ[\"TYPE\"]\n",
    "PROJECT_ID = os.environ[\"PROJECT_ID\"]\n",
    "PRIVATE_KEY_ID = os.environ[\"PRIVATE_KEY_ID\"]\n",
    "PRIVATE_KEY = os.environ[\"PRIVATE_KEY\"].replace('\\\\n','\\n')\n",
    "CLIENT_EMAIL = os.environ[\"CLIENT_EMAIL\"]\n",
    "CLIENT_ID = os.environ[\"CLIENT_ID\"]\n",
    "AUTH_URI = os.environ[\"AUTH_URI\"]\n",
    "TOKEN_URI = os.environ[\"TOKEN_URI\"]\n",
    "AUTH_PROVIDER = os.environ[\"AUTH_PROVIDER\"]\n",
    "CLIENT_CERT_URL = os.environ[\"CLIENT_CERT_URL\"]\n",
    "UNIVERSE_DOMAIN = os.environ[\"UNIVERSE_DOMAIN\"]\n",
    "\n",
    "\n",
    "\n",
    "google_json = {\n",
    "  \"type\": TYPE,\n",
    "  \"project_id\": PROJECT_ID,\n",
    "  \"private_key_id\": PRIVATE_KEY_ID,\n",
    "  \"private_key\": PRIVATE_KEY,\n",
    "  \"client_email\": CLIENT_EMAIL,\n",
    "  \"client_id\": CLIENT_ID,\n",
    "  \"auth_uri\": AUTH_URI,\n",
    "  \"token_uri\": TOKEN_URI,\n",
    "  \"auth_provider_x509_cert_url\": AUTH_PROVIDER,\n",
    "  \"client_x509_cert_url\": CLIENT_CERT_URL,\n",
    "  \"universe_domain\": UNIVERSE_DOMAIN\n",
    "}\n",
    "\n",
    "google_json = json.dumps(google_json)\n",
    "google_json = json.loads(google_json)\n",
    "\n",
    "SCOPES = ['https://www.googleapis.com/auth/drive']\n",
    "creds = service_account.Credentials.from_service_account_info(google_json, scopes=SCOPES)"
   ]
  },
  {
   "cell_type": "code",
   "execution_count": 5,
   "id": "f3c91fee-7a09-4495-a2ca-58ed31d73843",
   "metadata": {},
   "outputs": [
    {
     "name": "stdout",
     "output_type": "stream",
     "text": [
      "Folder ID: 1-Z4ZVnyPhZLoIB6SIPU7TGJ8UHz9jWTh\n"
     ]
    }
   ],
   "source": [
    "def create_foler_in_google_drive(name):\n",
    "\n",
    "    service = build('drive', 'v3', credentials=creds)\n",
    "    \n",
    "    # Create a folder\n",
    "    file_metadata = {\n",
    "        'name': name,\n",
    "        'mimeType': 'application/vnd.google-apps.folder'\n",
    "    }\n",
    "    \n",
    "    folder = service.files().create(body=file_metadata, fields='id').execute()\n",
    "    print('Folder ID:', folder.get('id'))\n",
    "\n",
    "create_foler_in_google_drive('Feedback')"
   ]
  },
  {
   "cell_type": "code",
   "execution_count": 50,
   "id": "8a64d5c9-1d17-4fc4-a329-bdeccf28eb23",
   "metadata": {},
   "outputs": [
    {
     "name": "stdout",
     "output_type": "stream",
     "text": [
      "File ID: 1CFcGdeyUnLXPdx_XAl0V0w7BtGRfEuuW\n"
     ]
    }
   ],
   "source": [
    "def upload_file_to_google_drive(file_path, mime_type, parent_folder_id=None):\n",
    "\n",
    "    service = build('drive', 'v3', credentials=creds)\n",
    "\n",
    "    # File metadata\n",
    "    file_metadata = {\n",
    "        'name': os.path.basename(file_path),\n",
    "    }\n",
    "    if parent_folder_id:\n",
    "        file_metadata['parents'] = [parent_folder_id]\n",
    "\n",
    "\n",
    "    media = MediaFileUpload(file_path, mimetype=mime_type)\n",
    "\n",
    "    # Upload file\n",
    "    file = service.files().create(\n",
    "        body=file_metadata,\n",
    "        media_body=media,\n",
    "        fields='id'\n",
    "    ).execute()\n",
    "    print(f\"File ID: {file.get('id')}\")\n",
    "\n",
    "\n",
    "parent_folder_id = '1-Z4ZVnyPhZLoIB6SIPU7TGJ8UHz9jWTh'\n",
    "file_path = 'data/ground_truth.xlsx'\n",
    "mime_type = 'application/vnd.openxmlformats-officedocument.spreadsheetml.sheet'\n",
    "upload_file_to_google_drive(file_path, mime_type,parent_folder_id)"
   ]
  },
  {
   "cell_type": "code",
   "execution_count": 21,
   "id": "d0bf2752",
   "metadata": {},
   "outputs": [
    {
     "name": "stdout",
     "output_type": "stream",
     "text": [
      "File ID: 1DT9x3X6xur1AdimsPRF0r9eyQjnDr8yM\n"
     ]
    }
   ],
   "source": [
    "def upload_json_to_google_drive(json_to_upload,name,parent_folder_id = None):\n",
    "\n",
    "    service = build('drive', 'v3', credentials=creds)\n",
    "\n",
    "    \n",
    "    json_str = json.dumps(json_to_upload)\n",
    "    file_stream = io.BytesIO(json_str.encode('utf-8'))\n",
    "\n",
    "    # File metadata\n",
    "    file_metadata = {\n",
    "   'name': '{}.json'.format(name),\n",
    "   'mimeType': 'application/json'\n",
    "    }\n",
    "    \n",
    "    if parent_folder_id:\n",
    "        file_metadata['parents'] = [parent_folder_id]\n",
    "\n",
    "\n",
    "    media = MediaIoBaseUpload(file_stream, mimetype='application/json')\n",
    "\n",
    "    # Upload file\n",
    "    file = service.files().create(\n",
    "    body=file_metadata,\n",
    "    media_body=media,\n",
    "    fields='id'\n",
    "    ).execute()\n",
    "    print(f\"File ID: {file.get('id')}\")\n",
    "\n",
    "\n",
    "upload_json_to_google_drive({'key':'value'},'north')"
   ]
  },
  {
   "cell_type": "code",
   "execution_count": 3,
   "id": "23017e9c-0fc6-41a5-8d93-9178a88dc8c1",
   "metadata": {},
   "outputs": [
    {
     "name": "stdout",
     "output_type": "stream",
     "text": [
      "Files:\n",
      "18:35:20.json (1WsIVNzOYpILaWWUw00kVG-1DMEy2Canb)\n",
      "00:58:01.json (1bodTRDSzhwt9iT0HelpLA8Iij7YkMR8R)\n",
      "00:05:53.json (1iiCM4T7JDlCGeM-bW_wG0StEByhDpx2z)\n",
      "ground_truth.xlsx (1CFcGdeyUnLXPdx_XAl0V0w7BtGRfEuuW)\n",
      "GroundTruth (1wd2yHup7ExpSRAmqgmaH8ELAfq04Lybx)\n",
      "Feedback (1i307DYh9OFoPC6AkxI1rTwrhC0J3HKO-)\n"
     ]
    }
   ],
   "source": [
    "def list_files_in_google_drive():\n",
    "\n",
    "    service = build('drive', 'v3', credentials=creds)\n",
    "\n",
    "    results = service.files().list(\n",
    "        pageSize=10, fields=\"nextPageToken, files(id, name)\"\n",
    "    ).execute()\n",
    "    items = results.get('files', [])\n",
    "    if not items:\n",
    "        print('No files found.') \n",
    "    else:\n",
    "        print('Files:')\n",
    "        for item in items:\n",
    "            print(f\"{item['name']} ({item['id']})\")\n",
    "list_files_in_google_drive()"
   ]
  },
  {
   "cell_type": "code",
   "execution_count": 94,
   "id": "7ef601ff",
   "metadata": {},
   "outputs": [
    {
     "name": "stdout",
     "output_type": "stream",
     "text": [
      "Files:\n",
      "23:20:51.json (1u44cv_FQ-QJHXzpNuhuAjBoDMyCT0PBa)\n",
      "23:20:45.json (1Qeo5gqYOQQQ6jXyMgklfmZuxxjV02NQd)\n",
      "22:55:17.json (10DjEBTwJsZO50P3rDkCwWWFRRvaONoE_)\n"
     ]
    },
    {
     "data": {
      "text/plain": [
       "['1u44cv_FQ-QJHXzpNuhuAjBoDMyCT0PBa',\n",
       " '1Qeo5gqYOQQQ6jXyMgklfmZuxxjV02NQd',\n",
       " '10DjEBTwJsZO50P3rDkCwWWFRRvaONoE_']"
      ]
     },
     "execution_count": 94,
     "metadata": {},
     "output_type": "execute_result"
    }
   ],
   "source": [
    "def list_files_in_google_drive_folder(folder_id):\n",
    "\n",
    "    service = build('drive', 'v3', credentials=creds)\n",
    "    results = service.files().list(\n",
    "        q=f\"'{folder_id}' in parents\",\n",
    "        pageSize=10,  # Adjust as needed\n",
    "        fields=\"nextPageToken, files(id, name)\"\n",
    "    ).execute()\n",
    "    items = results.get('files', [])\n",
    "    ids_list = []\n",
    "    if not items:\n",
    "        print('No files found.')\n",
    "    else:\n",
    "        print('Files:')\n",
    "        for item in items:\n",
    "            print(f\"{item['name']} ({item['id']})\")\n",
    "            ids_list.append(item['id'])\n",
    "\n",
    "    return ids_list\n",
    "\n",
    "folder_id = '1-Z4ZVnyPhZLoIB6SIPU7TGJ8UHz9jWTh'\n",
    "list_files_in_google_drive_folder(folder_id)"
   ]
  },
  {
   "cell_type": "code",
   "execution_count": 49,
   "id": "9cdbe0b2",
   "metadata": {},
   "outputs": [
    {
     "name": "stdout",
     "output_type": "stream",
     "text": [
      "Folders:\n",
      "GroundTruth (1wd2yHup7ExpSRAmqgmaH8ELAfq04Lybx)\n",
      "Feedback (1i307DYh9OFoPC6AkxI1rTwrhC0J3HKO-)\n"
     ]
    }
   ],
   "source": [
    "def list_folders_in_google_drive():\n",
    "\n",
    "    service = build('drive', 'v3', credentials=creds)\n",
    "    results = service.files().list(\n",
    "        q=\"mimeType='application/vnd.google-apps.folder'\",\n",
    "        pageSize=10,  # Adjust as needed\n",
    "        fields=\"nextPageToken, files(id, name)\"\n",
    "    ).execute()\n",
    "    items = results.get('files', [])\n",
    "\n",
    "    if not items:\n",
    "        print('No folders found.')\n",
    "    else:\n",
    "        print('Folders:')\n",
    "        for item in items:\n",
    "            print(f\"{item['name']} ({item['id']})\")\n",
    "\n",
    "list_folders_in_google_drive()\n"
   ]
  },
  {
   "cell_type": "code",
   "execution_count": 4,
   "id": "8443b22b-2be1-48f7-a05f-d94b96817d4b",
   "metadata": {},
   "outputs": [
    {
     "name": "stdout",
     "output_type": "stream",
     "text": [
      "Deleted file: 22:44:51.json (ID: 1LZzxvOKGyPFy5--olbU392p1EY4xODsP)\n",
      "Deleted file: 22:43:58.json (ID: 1Z7EVvDY_XAL52Kv7DwT38R8I5Vs0vVDv)\n",
      "Deleted file: 22:41:07.json (ID: 1Z_zt07NKi7wpDNIuUpdWEfdyHQC5gF5R)\n",
      "Deleted file: 22:36:38.json (ID: 1slF1m6-XndBV2k26RySw-K8q5yepkuaI)\n",
      "Deleted file: 22:36:12.json (ID: 1msUl9Df89CiUuadVlnwv_7QtaAQiGlc6)\n",
      "Deleted file: Feedback (ID: 18RwkJwasmQ1KQtfvQHIFg9OJUbDHFGCq)\n"
     ]
    }
   ],
   "source": [
    "def delete_all_files_and_folders():\n",
    "\n",
    "    service = build('drive', 'v3', credentials=creds)\n",
    "    page_token = None\n",
    "\n",
    "    while True:\n",
    "        response = service.files().list(q=\"trashed=false\",\n",
    "                                        spaces='drive',\n",
    "                                        fields='nextPageToken, files(id, name)',\n",
    "                                        pageToken=page_token).execute()\n",
    "\n",
    "        files = response.get('files', [])\n",
    "        if not files:\n",
    "            print(\"No files found.\")\n",
    "            break\n",
    "\n",
    "        for file in files:\n",
    "            try:\n",
    "                service.files().delete(fileId=file['id']).execute()\n",
    "                print(f\"Deleted file: {file['name']} (ID: {file['id']})\")\n",
    "                time.sleep(0.1)  # Sleep to avoid hitting the rate limit\n",
    "            except Exception as e:\n",
    "                print(f\"An error occurred: {e}\")\n",
    "\n",
    "        page_token = response.get('nextPageToken', None)\n",
    "        if page_token is None:\n",
    "            break\n",
    "\n",
    "delete_all_files_and_folders()"
   ]
  },
  {
   "cell_type": "code",
   "execution_count": null,
   "id": "a2c6aecf",
   "metadata": {},
   "outputs": [],
   "source": [
    "def delete_files_google_drive(file_ids = []):\n",
    "    service = build('drive', 'v3', credentials=creds)\n",
    "    for file_id in file_ids:\n",
    "        try:\n",
    "            # Delete the file\n",
    "            service.files().delete(fileId=file_id).execute()\n",
    "            print('File deleted successfully')\n",
    "        except Exception as e:\n",
    "            print('An error occurred:', e)"
   ]
  },
  {
   "cell_type": "code",
   "execution_count": 85,
   "id": "07508b89",
   "metadata": {},
   "outputs": [
    {
     "name": "stdout",
     "output_type": "stream",
     "text": [
      "Files:\n",
      "22:55:17.json (10DjEBTwJsZO50P3rDkCwWWFRRvaONoE_)\n"
     ]
    }
   ],
   "source": [
    "list_files_in_google_drive_folder(folder_id)"
   ]
  },
  {
   "cell_type": "code",
   "execution_count": 84,
   "id": "e2ff07a9-2b57-47ec-90c2-431075aca743",
   "metadata": {},
   "outputs": [],
   "source": [
    "def load_json_from_google_drive(file_id):\n",
    "\n",
    "    service = build('drive', 'v3', credentials=creds)\n",
    "    try:\n",
    "        response = service.files().get_media(fileId=file_id)\n",
    "\n",
    "        content = response.execute()\n",
    "\n",
    "        return content\n",
    "\n",
    "    except Exception as e:\n",
    "        print(f'An error occurred: {e}')\n",
    "        return None"
   ]
  },
  {
   "cell_type": "code",
   "execution_count": 121,
   "id": "da5f409b",
   "metadata": {},
   "outputs": [],
   "source": [
    "def show_feedback(folder_id = '1-Z4ZVnyPhZLoIB6SIPU7TGJ8UHz9jWTh'):\n",
    "    feedback_ids = list_files_in_google_drive_folder(folder_id)\n",
    "    feedback_output = {}\n",
    "    for feedback_id in feedback_ids:    \n",
    "        loaded_json = load_json_from_google_drive(feedback_id)\n",
    "        json_content_dict = json.loads(loaded_json.decode('utf-8'))\n",
    "        print('JSON content as dictionary:')\n",
    "        print(json_content_dict)\n",
    "        for k,v in json_content_dict.items():\n",
    "            if k in feedback_output:\n",
    "                feedback_output[k].append(v)\n",
    "            else:\n",
    "                feedback_output[k] = [v]\n",
    "\n",
    "    df = pd.DataFrame(feedback_output).apply(pd.Series.explode).reset_index(drop = True)\n",
    "    \n",
    "    return feedback_ids, df\n"
   ]
  },
  {
   "cell_type": "code",
   "execution_count": 115,
   "id": "6f3f72b8",
   "metadata": {},
   "outputs": [
    {
     "name": "stdout",
     "output_type": "stream",
     "text": [
      "Files:\n",
      "23:36:58.json (1c7KtoO-xTM9A411ZIdZBgS1wEfilpQgQ)\n",
      "23:20:51.json (1u44cv_FQ-QJHXzpNuhuAjBoDMyCT0PBa)\n",
      "23:20:45.json (1Qeo5gqYOQQQ6jXyMgklfmZuxxjV02NQd)\n",
      "22:55:17.json (10DjEBTwJsZO50P3rDkCwWWFRRvaONoE_)\n",
      "['1c7KtoO-xTM9A411ZIdZBgS1wEfilpQgQ', '1u44cv_FQ-QJHXzpNuhuAjBoDMyCT0PBa', '1Qeo5gqYOQQQ6jXyMgklfmZuxxjV02NQd', '10DjEBTwJsZO50P3rDkCwWWFRRvaONoE_']\n",
      "JSON content as dictionary:\n",
      "{'thumb': ['👎', '👍', '👍'], 'feedback': ['asdf', 'abc', 'feedback'], 'user_input': ['def', 'aabc', 'abc'], 'llm_output': ['Not confident enough to generate prompt ', 'Not confident enough to generate prompt ', 'Not confident enough to generate prompt ']}\n",
      "JSON content as dictionary:\n",
      "{'thumb': '👎', 'feedback': 'asdf', 'user_input': 'def', 'llm_output': 'Not confident enough to generate prompt '}\n",
      "JSON content as dictionary:\n",
      "{'thumb': '👍', 'feedback': 'abc', 'user_input': 'aabc', 'llm_output': 'Not confident enough to generate prompt '}\n",
      "JSON content as dictionary:\n",
      "{'thumb': '👍', 'feedback': 'feedback', 'user_input': 'abc', 'llm_output': 'Not confident enough to generate prompt '}\n"
     ]
    },
    {
     "data": {
      "text/html": [
       "<div>\n",
       "<style scoped>\n",
       "    .dataframe tbody tr th:only-of-type {\n",
       "        vertical-align: middle;\n",
       "    }\n",
       "\n",
       "    .dataframe tbody tr th {\n",
       "        vertical-align: top;\n",
       "    }\n",
       "\n",
       "    .dataframe thead th {\n",
       "        text-align: right;\n",
       "    }\n",
       "</style>\n",
       "<table border=\"1\" class=\"dataframe\">\n",
       "  <thead>\n",
       "    <tr style=\"text-align: right;\">\n",
       "      <th></th>\n",
       "      <th>thumb</th>\n",
       "      <th>feedback</th>\n",
       "      <th>user_input</th>\n",
       "      <th>llm_output</th>\n",
       "    </tr>\n",
       "  </thead>\n",
       "  <tbody>\n",
       "    <tr>\n",
       "      <th>0</th>\n",
       "      <td>👎</td>\n",
       "      <td>asdf</td>\n",
       "      <td>def</td>\n",
       "      <td>Not confident enough to generate prompt</td>\n",
       "    </tr>\n",
       "    <tr>\n",
       "      <th>0</th>\n",
       "      <td>👍</td>\n",
       "      <td>abc</td>\n",
       "      <td>aabc</td>\n",
       "      <td>Not confident enough to generate prompt</td>\n",
       "    </tr>\n",
       "    <tr>\n",
       "      <th>0</th>\n",
       "      <td>👍</td>\n",
       "      <td>feedback</td>\n",
       "      <td>abc</td>\n",
       "      <td>Not confident enough to generate prompt</td>\n",
       "    </tr>\n",
       "    <tr>\n",
       "      <th>1</th>\n",
       "      <td>👎</td>\n",
       "      <td>asdf</td>\n",
       "      <td>def</td>\n",
       "      <td>Not confident enough to generate prompt</td>\n",
       "    </tr>\n",
       "    <tr>\n",
       "      <th>2</th>\n",
       "      <td>👍</td>\n",
       "      <td>abc</td>\n",
       "      <td>aabc</td>\n",
       "      <td>Not confident enough to generate prompt</td>\n",
       "    </tr>\n",
       "    <tr>\n",
       "      <th>3</th>\n",
       "      <td>👍</td>\n",
       "      <td>feedback</td>\n",
       "      <td>abc</td>\n",
       "      <td>Not confident enough to generate prompt</td>\n",
       "    </tr>\n",
       "  </tbody>\n",
       "</table>\n",
       "</div>"
      ],
      "text/plain": [
       "  thumb  feedback user_input                                llm_output\n",
       "0     👎      asdf        def  Not confident enough to generate prompt \n",
       "0     👍       abc       aabc  Not confident enough to generate prompt \n",
       "0     👍  feedback        abc  Not confident enough to generate prompt \n",
       "1     👎      asdf        def  Not confident enough to generate prompt \n",
       "2     👍       abc       aabc  Not confident enough to generate prompt \n",
       "3     👍  feedback        abc  Not confident enough to generate prompt "
      ]
     },
     "execution_count": 115,
     "metadata": {},
     "output_type": "execute_result"
    }
   ],
   "source": [
    "_, df = show_feedback()\n",
    "df"
   ]
  },
  {
   "cell_type": "code",
   "execution_count": 129,
   "id": "2e8534e6",
   "metadata": {},
   "outputs": [],
   "source": [
    "def merge_json_feedback(folder_id = '1-Z4ZVnyPhZLoIB6SIPU7TGJ8UHz9jWTh'):\n",
    "    feedback_ids, df = show_feedback(folder_id)\n",
    "    feedback_dict = {col: df[col].tolist() for col in df.columns}\n",
    "    now = datetime.now()\n",
    "    current_time = now.strftime(\"%H:%M:%S\")\n",
    "    try:\n",
    "        upload_json_to_google_drive(feedback_dict,current_time,parent_folder_id='1-Z4ZVnyPhZLoIB6SIPU7TGJ8UHz9jWTh') # Folder to store feedback\n",
    "        delete_files_google_drive(feedback_ids)\n",
    "    except Exception as e:\n",
    "        print(f'An error occurred: {e}')"
   ]
  },
  {
   "cell_type": "code",
   "execution_count": 133,
   "id": "d07846cc",
   "metadata": {},
   "outputs": [
    {
     "name": "stdout",
     "output_type": "stream",
     "text": [
      "Files:\n",
      "23:58:36.json (1Le46L3MYEoC59Varb16KsLqJRlJBTj3V)\n",
      "23:56:01.json (1I73L9iaXrrUi2JBon1I7pBJgE7ihr0gB)\n",
      "23:36:58.json (1c7KtoO-xTM9A411ZIdZBgS1wEfilpQgQ)\n",
      "23:20:51.json (1u44cv_FQ-QJHXzpNuhuAjBoDMyCT0PBa)\n",
      "23:20:45.json (1Qeo5gqYOQQQ6jXyMgklfmZuxxjV02NQd)\n",
      "22:55:17.json (10DjEBTwJsZO50P3rDkCwWWFRRvaONoE_)\n",
      "JSON content as dictionary:\n",
      "{'thumb': ['👎', '👍', '👍', '👎', '👍', '👍', '👎', '👍', '👍', '👎', '👍', '👍'], 'feedback': ['asdf', 'abc', 'feedback', 'asdf', 'abc', 'feedback', 'asdf', 'abc', 'feedback', 'asdf', 'abc', 'feedback'], 'user_input': ['def', 'aabc', 'abc', 'def', 'aabc', 'abc', 'def', 'aabc', 'abc', 'def', 'aabc', 'abc'], 'llm_output': ['Not confident enough to generate prompt ', 'Not confident enough to generate prompt ', 'Not confident enough to generate prompt ', 'Not confident enough to generate prompt ', 'Not confident enough to generate prompt ', 'Not confident enough to generate prompt ', 'Not confident enough to generate prompt ', 'Not confident enough to generate prompt ', 'Not confident enough to generate prompt ', 'Not confident enough to generate prompt ', 'Not confident enough to generate prompt ', 'Not confident enough to generate prompt ']}\n",
      "JSON content as dictionary:\n",
      "{'thumb': ['👎', '👍', '👍', '👎', '👍', '👍'], 'feedback': ['asdf', 'abc', 'feedback', 'asdf', 'abc', 'feedback'], 'user_input': ['def', 'aabc', 'abc', 'def', 'aabc', 'abc'], 'llm_output': ['Not confident enough to generate prompt ', 'Not confident enough to generate prompt ', 'Not confident enough to generate prompt ', 'Not confident enough to generate prompt ', 'Not confident enough to generate prompt ', 'Not confident enough to generate prompt ']}\n",
      "JSON content as dictionary:\n",
      "{'thumb': ['👎', '👍', '👍'], 'feedback': ['asdf', 'abc', 'feedback'], 'user_input': ['def', 'aabc', 'abc'], 'llm_output': ['Not confident enough to generate prompt ', 'Not confident enough to generate prompt ', 'Not confident enough to generate prompt ']}\n",
      "JSON content as dictionary:\n",
      "{'thumb': '👎', 'feedback': 'asdf', 'user_input': 'def', 'llm_output': 'Not confident enough to generate prompt '}\n",
      "JSON content as dictionary:\n",
      "{'thumb': '👍', 'feedback': 'abc', 'user_input': 'aabc', 'llm_output': 'Not confident enough to generate prompt '}\n",
      "JSON content as dictionary:\n",
      "{'thumb': '👍', 'feedback': 'feedback', 'user_input': 'abc', 'llm_output': 'Not confident enough to generate prompt '}\n",
      "File ID: 1UPEn1ItJN3W6mTCC4zUfcXbXTLNBtfGw\n",
      "File deleted successfully\n",
      "File deleted successfully\n",
      "File deleted successfully\n",
      "File deleted successfully\n",
      "File deleted successfully\n",
      "File deleted successfully\n"
     ]
    }
   ],
   "source": [
    "merge_json_feedback()"
   ]
  },
  {
   "cell_type": "code",
   "execution_count": 136,
   "id": "3490a2db",
   "metadata": {},
   "outputs": [
    {
     "name": "stdout",
     "output_type": "stream",
     "text": [
      "Files:\n",
      "00:05:53.json (1iiCM4T7JDlCGeM-bW_wG0StEByhDpx2z)\n"
     ]
    },
    {
     "data": {
      "text/plain": [
       "['1iiCM4T7JDlCGeM-bW_wG0StEByhDpx2z']"
      ]
     },
     "execution_count": 136,
     "metadata": {},
     "output_type": "execute_result"
    }
   ],
   "source": [
    "list_files_in_google_drive_folder('1-Z4ZVnyPhZLoIB6SIPU7TGJ8UHz9jWTh')"
   ]
  },
  {
   "cell_type": "code",
   "execution_count": null,
   "id": "d598d131",
   "metadata": {},
   "outputs": [],
   "source": []
  }
 ],
 "metadata": {
  "kernelspec": {
   "display_name": "Python 3 (ipykernel)",
   "language": "python",
   "name": "python3"
  },
  "language_info": {
   "codemirror_mode": {
    "name": "ipython",
    "version": 3
   },
   "file_extension": ".py",
   "mimetype": "text/x-python",
   "name": "python",
   "nbconvert_exporter": "python",
   "pygments_lexer": "ipython3",
   "version": "3.12.3"
  }
 },
 "nbformat": 4,
 "nbformat_minor": 5
}
